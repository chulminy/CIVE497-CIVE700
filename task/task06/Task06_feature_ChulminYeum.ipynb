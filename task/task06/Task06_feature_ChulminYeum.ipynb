{
 "cells": [
  {
   "cell_type": "markdown",
   "metadata": {},
   "source": [
    "# Task06: Feature Matching & RANSAC\n",
    "\n",
    "* **Your Name:** \n",
    "* **Your ID:** \n",
    "\n",
    "Last updated: Mar 10, 2025"
   ]
  },
  {
   "cell_type": "markdown",
   "metadata": {},
   "source": [
    "## Problem 1: LoG and DoG (10 points)\n",
    "Please answer these questions **in detail**.\n",
    "\n",
    "**(a)** What is the Laplacian of Gaussian (LoG)? When do we use LoG?   \n",
    "**(b)** What is the Difference of Gaussian (DoG)? When do we use and why DoG is advantageous compared to LoG?   "
   ]
  },
  {
   "cell_type": "markdown",
   "metadata": {},
   "source": [
    "## Problem 2: Least Squares (10 points)\n",
    "\n",
    "Please check out the `prob2` folder. \n",
    "\n",
    "**(a)** Explain the approach 1 and approach 2 for least-square line fitting in your words. Please refer to the course slide and tutorials. \n",
    "\n",
    "A response y<sub>i</sub> is measured from a linear system when an input is x<sub>i</sub>. The measurement data is provided (`prob2_data1.mat`). A model of your system can be approximated as y<sub>i</sub> = mx<sub>i</sub> + b. Please find `m` and `b` using the following methods. \n",
    "\n",
    "**(b)** Least squares (approach 1) \n",
    "\n",
    "**(c)** Least squares (approach 2)\n",
    "\n",
    "Here is another measurement data (`prob2_data2.mat`). Please find m and b using the following methods. \n",
    "\n",
    "**(d)** Least squares (either approach 1 or approach 2)\n",
    "\n",
    "**(e)** Use of RANSAC. **You need to have your own RANSAC implementation without using existing functions in Python (must not use `ransac` or any other relevant functions).**\n",
    "\n",
    "**(f)** When do we use either least squares or RANSAC? What are the pros and cons of each technique? \n",
    "\n"
   ]
  },
  {
   "cell_type": "markdown",
   "metadata": {},
   "source": [
    "## Problem 3: Fitting using RANSAC (20 points)\n",
    "\n",
    "Please check out the `prob3` folder. \n",
    "\n",
    "**(a)** Fit an ellipse to the given data (`prob3_ellipse.mat`) using your own RANSAC implementation:\n",
    "\n",
    "![](https://latex.codecogs.com/gif.latex?ax%5E2%20&plus;%20cy%5E2%20&plus;%20dx%20&plus;%20ey%20&plus;%20f%20%3D%200)\n",
    "\n",
    "**(b)** Fit a fourth-degree polynomial to the given data (`prob3_polynomial.mat`) using your own RANSAC implementation:\n",
    "\n",
    "![](https://latex.codecogs.com/gif.latex?y%20%3D%20ax%5E4%20&plus;%20bx%5E3%20&plus;%20cx%5E2%20&plus;%20dx%20&plus;%20e)\n",
    "\n",
    "\n"
   ]
  },
  {
   "cell_type": "markdown",
   "metadata": {},
   "source": [
    "### Please install OpenCV to solve the following problems 4, 5, and 6\n",
    "\n",
    "Please review the `sift_tutorial.ipynb` in [`notebook/feature`](https://github.com/chulminy/CIVE497-CIVE700/tree/master/notebook/feature). "
   ]
  },
  {
   "cell_type": "markdown",
   "metadata": {},
   "source": [
    "## Problem 4: Improved 3D Planar Measurement Tool (20 points)\n",
    "You will develop an enhanced 3D planar measurement application. This tool is engineered for measuring 3D distances on a plane by eliminating the need to pre-select the corners of a calibration paper (in this case, a booklet), like the previous task. Users will photograph a planar surface with the calibration paper positioned on it and then select any two points within the image to obtain measurements. This streamlines the process by removing the requirement to identify the calibration paper's corners beforehand. Below is a demonstration video:\n",
    "\n",
    "[![](http://img.youtube.com/vi/TI-p1DYtoyc/0.jpg)](https://youtu.be/TI-p1DYtoyc)\n",
    "\n",
    "**(a)** To complete this task, you're tasked with creating your own measurement tool and assessing its accuracy using the images in the `prob4` folder. Below is a template code to get you started, but you'll need to design the `fun_measurement` function by yourself. A critical part of this assignment involves estimating homography through SIFT feature matching. Keep in mind that the booklet you'll use for calibration, as depicted in `cover.jpg`, has dimensions of 24 cm x 31.5 cm. The distance that you will be measured in each image is already provided at `pts`, which is 10 cm. The measurement from your tool should be similar to 10 cm like the demo video above. \n",
    "\n",
    "**(b)** Prepare your own calibration paper and take photos similar to the ones in (a). Then, evaluate your tool. \n",
    "\n",
    "**(c)** Compare measurements using this new tool and the one developed in Task 5. \n",
    "\n",
    "Note that you **should not do hard cording**. This means the corner points of the booklet on your **test image** is completely unknown and must be detected or measured with your code.  "
   ]
  },
  {
   "cell_type": "code",
   "execution_count": null,
   "metadata": {},
   "outputs": [],
   "source": [
    "import cv2\n",
    "import numpy as np\n",
    "import os\n",
    "\n",
    "def fun_measurement (img_org, img_cov, cov_size, points):\n",
    "\n",
    "    # WRITE YOUR CODE\n",
    "\n",
    "    return distance\n",
    "\n",
    "sizeBook = [24, 31.5]; # cm\n",
    "\n",
    "pts = [None]*7\n",
    "pts[0] = np.array([[1049,691], [1246,664]])\n",
    "pts[1] = np.array([[961,699], [1155,684]])\n",
    "pts[2] = np.array([[932,781], [1120,858]])\n",
    "pts[3] = np.array([[479,263], [621,323]])\n",
    "pts[4] = np.array([[506,387], [667,366]])\n",
    "pts[5] = np.array([[511,328], [621,395]])\n",
    "pts[6] = np.array([[873,324], [992,235]])\n",
    "\n",
    "cover = cv2.imread('prob4/cover.jpg')\n",
    "cover = cv2.cvtColor(cover, cv2.COLOR_BGR2GRAY)\n",
    "\n",
    "measurement = [None]*7\n",
    "for i in range(7):\n",
    "\n",
    "    filename = f\"IMG_00{i+86}.JPG\"\n",
    "    imgPath = os.path.join('prob4', filename)\n",
    "    img = cv2.imread(imgPath)\n",
    "    img_org = cv2.cvtColor(img, cv2.COLOR_BGR2GRAY)\n",
    "\n",
    "    measurement[i] = fun_measurement(img_org, cover, sizeBook, pts[i])\n",
    "\n",
    "print(measurement)\n"
   ]
  },
  {
   "cell_type": "markdown",
   "metadata": {},
   "source": [
    "## Problem 5: Book Classification using SIFT (20 points)\n",
    "You are going to categorize books on images. Here are the exepceted outcome from the template code:\n",
    "\n",
    "[![](http://img.youtube.com/vi/IUI-7_bP8Tk/0.jpg)](https://youtu.be/IUI-7_bP8Tk)\n",
    "\n",
    "You are asked to design the `fun_book_overlay` function to execute the template code. Your code needs to automatically compute the outlines (boundary) of each book and its identity (book name).  There are 17 images (see the folder of `prob5/img`) and in each image, four books are placed on a desk. The cover pages of the books are provided in `prob5/book_cover`. **Your output doesn't need to be identical to the one in the video but should include all the key components (ex. visualizing boundary and corner points, overlaying book names).** Your code should not fail to identify a book or estimate its boundary no more than 5 books among all books (68 = 17 images x 4 books). **This problem is not asking you to use edge detection!** Note that you should not do hard cording. "
   ]
  },
  {
   "cell_type": "code",
   "execution_count": null,
   "metadata": {},
   "outputs": [],
   "source": [
    "import cv2\n",
    "import numpy as np\n",
    "import os\n",
    "from matplotlib import pyplot as plt\n",
    "\n",
    "# Initialize SIFT detector\n",
    "def fun_book_overlay(img_dir, cover_dir):\n",
    "\n",
    "    # WRITE YOUR CODE\n",
    "\n",
    "    return img_out\n",
    "\n",
    "base_dir = 'prob5'\n",
    "cover_dir = os.path.join(base_dir, 'book_cover')\n",
    "fig, axes = plt.subplots(6, 3, figsize=(24, 48))  # Adjust the figsize as needed\n",
    "axes = axes.ravel()  # Flatten the 2D array of axes for easy indexing\n",
    "\n",
    "for i in range(17):\n",
    "    filename = f\"IMG_02{i+12}.JPG\"\n",
    "    img_dir = os.path.join(base_dir, 'img', filename)\n",
    "    img_out = fun_book_overlay(img_dir, cover_dir)\n",
    "\n",
    "    axes[i].imshow(img_out)\n",
    "    axes[i].set_title(filename)\n",
    "    axes[i].axis('off')  # To hide axes\n",
    "\n",
    "axes[17].axis('off')  # To hide axes\n",
    "\n"
   ]
  },
  {
   "cell_type": "markdown",
   "metadata": {},
   "source": [
    "## Problem 6: Card Number Identification and Replacement (20 points)\n",
    "You are going to **recognize the card numbers** and **replace A♠ with A♥**. Here are the expected outcomes: \n",
    "\n",
    "[![](http://img.youtube.com/vi/l374bYzTvv8/0.jpg)](https://youtu.be/l374bYzTvv8)\n",
    "\n",
    "You are required to design `fun_card_overlay` to produce the outcome images. Your code needs to automatically compute a number of each card using the given card image in (`prob6/card`). The sequence of the card numbers on the given images (`prob6/img`) are marked on the top of the corresponding images (see the demo video). All cards are the same size. Next, I like ♥ better than ♠. Please replace (or overlay) the A♠ card with the A♥ card. The quality of the overlay is similar to the ones in the video above. You should not do hard cording to find out the sequence and card overlay. For example, the sequence text should be autoamtically generated from the card sequence that you identify from the code. Note that this problem is NOT edge detection or object recognition. You can solve it using the code that you made for the previous problems or tasks. "
   ]
  },
  {
   "cell_type": "code",
   "execution_count": null,
   "metadata": {},
   "outputs": [],
   "source": [
    "import cv2\n",
    "import numpy as np\n",
    "import os\n",
    "from skimage import transform as tf\n",
    "from skimage.draw import polygon\n",
    "\n",
    "def fun_card_overlay(imgPath, card_dir):\n",
    "\n",
    "    # WRITE YOUR CODE\n",
    "\n",
    "    return imgOut\n",
    "\n",
    "# Main\n",
    "base_dir = 'prob6'\n",
    "img_dir = 'img'\n",
    "card_dir = os.path.join(base_dir, 'card')\n",
    "\n",
    "fig, axes = plt.subplots(2, 2, figsize=(20, 20))  # Adjust the figsize as needed\n",
    "axes = axes.ravel()  # Flatten the 2D array of axes for easy indexing\n",
    "for i in range(4):\n",
    "    filename = f\"img{i}.jpg\"\n",
    "    imgPath = os.path.join(base_dir, img_dir, filename)\n",
    "    \n",
    "    imgOut = fun_card_overlay(imgPath, card_dir)\n",
    "\n",
    "    axes[i].imshow(imgOut)\n",
    "    axes[i].set_title(filename)\n",
    "    axes[i].axis('off')  # To hide axes"
   ]
  }
 ],
 "metadata": {
  "kernelspec": {
   "display_name": "Python 3",
   "language": "python",
   "name": "python3"
  },
  "language_info": {
   "codemirror_mode": {
    "name": "ipython",
    "version": 3
   },
   "file_extension": ".py",
   "mimetype": "text/x-python",
   "name": "python",
   "nbconvert_exporter": "python",
   "pygments_lexer": "ipython3",
   "version": "3.11.8"
  }
 },
 "nbformat": 4,
 "nbformat_minor": 2
}
