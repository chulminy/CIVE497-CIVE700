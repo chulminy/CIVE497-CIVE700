{
 "cells": [
  {
   "cell_type": "markdown",
   "metadata": {},
   "source": [
    "# Task08: Neural Network from Scratch\n",
    "\n",
    "* **Your Name:** \n",
    "* **Your ID:** \n",
    "\n",
    "The primary objective of this assignment is to grasp the basics of neural networks by developing your own models. You are required to study \"Tutorial: Neural Network from Scratch\" (named `NN tutorial`) and \"Forward and Back-propagation\" **thoroughly**. Your code should adhere to the notation and coding conventions established in these tutorials. **The use of external neural network libraries is prohibited for this task.**\n",
    "\n",
    "Tutorials\n",
    "* [tutorial_neural_network_from_scratch.ipynb](tutorial_neural_network_from_scratch.ipynb)\n",
    "* [forward_and_back_propagation.ipynb](forward_and_back_propagation.ipynb)\n",
    "\n",
    "Last updated: Apr 2, 2025"
   ]
  },
  {
   "cell_type": "markdown",
   "metadata": {},
   "source": [
    "## Problem 1 (10 points) \n",
    "Explore the neural network playground at [http://playground.tensorflow.org](http://playground.tensorflow.org). Experiment with all four datasets by adjusting features, the number of hidden layers, neurons, the activation function, and the learning rate. Observe the rate of convergence for the loss based on the modifications you apply to the parameters. **There's no need to include your results in your report.**"
   ]
  },
  {
   "cell_type": "markdown",
   "metadata": {},
   "source": [
    "## Problem 2 (50 points) \n",
    "You are tasked with revising the `NN tutorial` code. It is essential to annotate and clarify the process of modifying your code as follows:\n",
    "\n",
    "1. Integrate an additional hidden layer, resulting in your network comprising two hidden layers. \n",
    "2. Modify the code to accommodate datasets that feature four classes for the datasets below\n",
    "3. Implement the `ReLU` activation function in one of the hidden layers.\n",
    "\n",
    "Your submission should encompass the complete code, along with your testing accuracy and the classification graph as demonstrated in the tutorial.\n",
    "Feel free to choose any number of nodes for your hidden layers, learning rates, and number of iterations. \n",
    "\n",
    "**Please note that your objective is to revise the current code, not to start a new code from scratch.**\n"
   ]
  },
  {
   "cell_type": "code",
   "execution_count": 1,
   "metadata": {},
   "outputs": [],
   "source": [
    "def generate_circle_data(inRadius=2, midRadius=(2.5, 4), outRadius=(4.5, 6), extraOutRadius=(6.5, 8), numPt=200):\n",
    "    # Inner circle\n",
    "    set1 = np.zeros((numPt, 2))\n",
    "    count = 0\n",
    "    while count < numPt:\n",
    "        xin = np.random.uniform(-inRadius, inRadius)\n",
    "        yin = np.random.uniform(-inRadius, inRadius)\n",
    "        if xin**2 + yin**2 < inRadius**2:\n",
    "            set1[count, :] = [xin, yin]\n",
    "            count += 1\n",
    "    \n",
    "    # Middle ring\n",
    "    set2 = np.zeros((numPt, 2))\n",
    "    count = 0\n",
    "    while count < numPt:\n",
    "        xin = np.random.uniform(-midRadius[1], midRadius[1])\n",
    "        yin = np.random.uniform(-midRadius[1], midRadius[1])\n",
    "        if midRadius[1]**2 > xin**2 + yin**2 > midRadius[0]**2:\n",
    "            set2[count, :] = [xin, yin]\n",
    "            count += 1\n",
    "\n",
    "    # Outer ring\n",
    "    set3 = np.zeros((numPt, 2))\n",
    "    count = 0\n",
    "    while count < numPt:\n",
    "        xin = np.random.uniform(-outRadius[1], outRadius[1])\n",
    "        yin = np.random.uniform(-outRadius[1], outRadius[1])\n",
    "        if outRadius[1]**2 > xin**2 + yin**2 > outRadius[0]**2:\n",
    "            set3[count, :] = [xin, yin]\n",
    "            count += 1\n",
    "\n",
    "    # Extra Outer ring\n",
    "    set4 = np.zeros((numPt, 2))\n",
    "    count = 0\n",
    "    while count < numPt:\n",
    "        xin = np.random.uniform(-extraOutRadius[1], extraOutRadius[1])\n",
    "        yin = np.random.uniform(-extraOutRadius[1], extraOutRadius[1])\n",
    "        if extraOutRadius[1]**2 > xin**2 + yin**2 > extraOutRadius[0]**2:\n",
    "            set4[count, :] = [xin, yin]\n",
    "            count += 1\n",
    "\n",
    "    return set1, set2, set3, set4\n"
   ]
  },
  {
   "cell_type": "markdown",
   "metadata": {},
   "source": [
    "## Problem 3 (40 points) \n",
    "\n",
    "Your assignment involves creating a neural network model by adapting the code from the `NN tutorial`. First, you will select a dataset from the UCI Machine Learning Repository, available at [https://archive.ics.uci.edu/](https://archive.ics.uci.edu/). Ensure the dataset you choose has a target variable with more than four classes to meet the assignment's requirements.\n",
    "\n",
    "After selecting an appropriate dataset, modify the `NN tutorial` code to accommodate the chosen dataset. You are expected to adjust the model architecture, data preprocessing steps, and any other necessary components to work effectively with your dataset.\n",
    "\n",
    "The dataset should be divided into a training set and a testing set, with a 70% and 30% split, respectively. Furthermore, you are tasked with researching the typical model accuracy for your chosen dataset on Kaggle or other website. The performance of your neural network should be within 8% of this benchmark accuracy. This comparison ensures that your model is competitive and aligns with existing standards.\n",
    "\n",
    "If the benchmark accuracy is not available, please indicate this in your report. \n",
    "\n",
    "**Again, the use of external neural network libraries is prohibited for this task.**"
   ]
  }
 ],
 "metadata": {
  "kernelspec": {
   "display_name": "Python 3",
   "language": "python",
   "name": "python3"
  },
  "language_info": {
   "codemirror_mode": {
    "name": "ipython",
    "version": 3
   },
   "file_extension": ".py",
   "mimetype": "text/x-python",
   "name": "python",
   "nbconvert_exporter": "python",
   "pygments_lexer": "ipython3",
   "version": "3.11.8"
  }
 },
 "nbformat": 4,
 "nbformat_minor": 2
}
